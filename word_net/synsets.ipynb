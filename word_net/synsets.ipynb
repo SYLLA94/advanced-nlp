{
 "metadata": {
  "language_info": {
   "codemirror_mode": {
    "name": "ipython",
    "version": 3
   },
   "file_extension": ".py",
   "mimetype": "text/x-python",
   "name": "python",
   "nbconvert_exporter": "python",
   "pygments_lexer": "ipython3",
   "version": "3.7.7-final"
  },
  "orig_nbformat": 2,
  "kernelspec": {
   "name": "python_defaultSpec_1596301434246",
   "display_name": "Python 3.7.7 64-bit ('lang': conda)"
  }
 },
 "nbformat": 4,
 "nbformat_minor": 2,
 "cells": [
  {
   "cell_type": "code",
   "execution_count": 6,
   "metadata": {
    "tags": []
   },
   "outputs": [],
   "source": [
    "from nltk.corpus import wordnet as wn"
   ]
  },
  {
   "cell_type": "code",
   "execution_count": 7,
   "metadata": {},
   "outputs": [
    {
     "output_type": "execute_result",
     "data": {
      "text/plain": "[Synset('procyonid.n.01'),\n Synset('carnivore.n.01'),\n Synset('placental.n.01'),\n Synset('mammal.n.01'),\n Synset('vertebrate.n.01'),\n Synset('chordate.n.01'),\n Synset('animal.n.01'),\n Synset('organism.n.01'),\n Synset('living_thing.n.01'),\n Synset('whole.n.02'),\n Synset('object.n.01'),\n Synset('physical_entity.n.01'),\n Synset('entity.n.01')]"
     },
     "metadata": {},
     "execution_count": 7
    }
   ],
   "source": [
    "panda = wn.synset('panda.n.01')\n",
    "hyper = lambda s: s.hypernyms()\n",
    "list(panda.closure(hyper))"
   ]
  },
  {
   "cell_type": "code",
   "execution_count": 8,
   "metadata": {
    "tags": []
   },
   "outputs": [
    {
     "output_type": "stream",
     "name": "stdout",
     "text": "noun: good\nnoun: good, goodness\nnoun: good, goodness\nnoun: commodity, trade_good, good\nadj: good\nadj (s): full, good\nadj: good\nadj (s): estimable, good, honorable, respectable\nadj (s): beneficial, good\nadj (s): good\nadj (s): good, just, upright\nadj (s): adept, expert, good, practiced, proficient, skillful, skilful\nadj (s): good\nadj (s): dear, good, near\nadj (s): dependable, good, safe, secure\nadj (s): good, right, ripe\nadj (s): good, well\nadj (s): effective, good, in_effect, in_force\nadj (s): good\nadj (s): good, serious\nadj (s): good, sound\nadj (s): good, salutary\nadj (s): good, honest\nadj (s): good, undecomposed, unspoiled, unspoilt\nadj (s): good\nadv: well, good\nadv: thoroughly, soundly, good\n"
    }
   ],
   "source": [
    "poses = {'n':'noun', 'v':'verb', 's':'adj (s)', 'a': 'adj', 'r':'adv'}\n",
    "for synset in wn.synsets('good'):\n",
    "    print('{}: {}'.format(poses[synset.pos()],\n",
    "    ', '.join([l.name() for l in synset.lemmas()])))"
   ]
  },
  {
   "cell_type": "code",
   "execution_count": null,
   "metadata": {},
   "outputs": [],
   "source": []
  }
 ]
}