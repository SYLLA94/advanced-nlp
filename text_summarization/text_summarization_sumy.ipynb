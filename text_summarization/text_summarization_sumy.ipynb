{
  "nbformat": 4,
  "nbformat_minor": 0,
  "metadata": {
    "colab": {
      "name": "text_summarization_sumy.ipynb",
      "provenance": []
    },
    "kernelspec": {
      "name": "python3",
      "display_name": "Python 3"
    },
    "accelerator": "GPU"
  },
  "cells": [
    {
      "cell_type": "code",
      "metadata": {
        "id": "Fhdh4h8bb8w1",
        "colab_type": "code",
        "colab": {}
      },
      "source": [
        "!pip install sumy"
      ],
      "execution_count": null,
      "outputs": []
    },
    {
      "cell_type": "code",
      "metadata": {
        "id": "ha0G4XrCfROo",
        "colab_type": "code",
        "colab": {}
      },
      "source": [
        "import nltk\n",
        "nltk.download('punkt')"
      ],
      "execution_count": null,
      "outputs": []
    },
    {
      "cell_type": "code",
      "metadata": {
        "id": "lPygVbqhgp0i",
        "colab_type": "code",
        "colab": {}
      },
      "source": [
        "from sumy.parsers.html import HtmlParser\n",
        "from sumy.nlp.tokenizers import Tokenizer\n",
        "from sumy.summarizers.text_rank import TextRankSummarizer\n",
        "from sumy.summarizers.lex_rank import LexRankSummarizer\n",
        "from sumy.summarizers.luhn import LuhnSummarizer\n",
        "from sumy.summarizers.lsa import LsaSummarizer"
      ],
      "execution_count": 18,
      "outputs": []
    },
    {
      "cell_type": "code",
      "metadata": {
        "id": "2p5LP0mZe4dA",
        "colab_type": "code",
        "colab": {}
      },
      "source": [
        "num_sentences_in_summary = 2\n",
        "url = \"http://www.gutenberg.org/files/996/996-0.txt\"\n",
        "text = HtmlParser.from_url(url, Tokenizer(\"english\"))"
      ],
      "execution_count": 20,
      "outputs": []
    },
    {
      "cell_type": "code",
      "metadata": {
        "id": "3nLpm8kvcxx1",
        "colab_type": "code",
        "colab": {
          "base_uri": "https://localhost:8080/",
          "height": 34
        },
        "outputId": "620bf83d-b5e6-41ce-f2ee-13322ac1bd83"
      },
      "source": [
        "model = Summarizer()\n",
        "\n",
        "summarizer_list=(\"TextRankSummarizer:\",\"LexRankSummarizer:\",\"LuhnSummarizer:\",\"LsaSummarizer\") #list of summarizers\n",
        "summarizers = [TextRankSummarizer(), LexRankSummarizer(), LuhnSummarizer(), LsaSummarizer()]\n",
        "\n",
        "for i,summarizer in enumerate(summarizers):\n",
        "    print(summarizer_list[i])\n",
        "    for sentence in summarizer(parser.document, num_sentences_in_summary):\n",
        "        print((sentence))\n",
        "    print(\"-\"*30)"
      ],
      "execution_count": null,
      "outputs": [
        {
          "output_type": "stream",
          "text": [
            "TextRankSummarizer:\n"
          ],
          "name": "stdout"
        }
      ]
    }
  ]
}