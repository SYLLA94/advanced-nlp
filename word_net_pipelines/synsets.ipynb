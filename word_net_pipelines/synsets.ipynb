{
 "metadata": {
  "language_info": {
   "codemirror_mode": {
    "name": "ipython",
    "version": 3
   },
   "file_extension": ".py",
   "mimetype": "text/x-python",
   "name": "python",
   "nbconvert_exporter": "python",
   "pygments_lexer": "ipython3",
   "version": "3.7.7-final"
  },
  "orig_nbformat": 2,
  "kernelspec": {
   "name": "python_defaultSpec_1596355117994",
   "display_name": "Python 3.7.7 64-bit ('lang': conda)"
  }
 },
 "nbformat": 4,
 "nbformat_minor": 2,
 "cells": [
  {
   "cell_type": "code",
   "execution_count": 1,
   "metadata": {
    "tags": []
   },
   "outputs": [
    {
     "output_type": "error",
     "ename": "ModuleNotFoundError",
     "evalue": "No module named 'networkx'",
     "traceback": [
      "\u001b[0;31m---------------------------------------------------------------------------\u001b[0m",
      "\u001b[0;31mModuleNotFoundError\u001b[0m                       Traceback (most recent call last)",
      "\u001b[0;32m<ipython-input-1-b5b9a84329bc>\u001b[0m in \u001b[0;36m<module>\u001b[0;34m\u001b[0m\n\u001b[1;32m      1\u001b[0m \u001b[0;32mimport\u001b[0m \u001b[0mmatplotlib\u001b[0m\u001b[0;34m.\u001b[0m\u001b[0mpyplot\u001b[0m \u001b[0;32mas\u001b[0m \u001b[0mplt\u001b[0m\u001b[0;34m\u001b[0m\u001b[0;34m\u001b[0m\u001b[0m\n\u001b[1;32m      2\u001b[0m \u001b[0;34m\u001b[0m\u001b[0m\n\u001b[0;32m----> 3\u001b[0;31m \u001b[0;32mimport\u001b[0m \u001b[0mnetworkx\u001b[0m \u001b[0;32mas\u001b[0m \u001b[0mnx\u001b[0m\u001b[0;34m\u001b[0m\u001b[0;34m\u001b[0m\u001b[0m\n\u001b[0m\u001b[1;32m      4\u001b[0m \u001b[0;32mfrom\u001b[0m \u001b[0mnltk\u001b[0m\u001b[0;34m.\u001b[0m\u001b[0mcorpus\u001b[0m \u001b[0;32mimport\u001b[0m \u001b[0mwordnet\u001b[0m \u001b[0;32mas\u001b[0m \u001b[0mwn\u001b[0m\u001b[0;34m\u001b[0m\u001b[0;34m\u001b[0m\u001b[0m\n",
      "\u001b[0;31mModuleNotFoundError\u001b[0m: No module named 'networkx'"
     ]
    }
   ],
   "source": [
    "import matplotlib.pyplot as plt\n",
    "\n",
    "import networkx as nx\n",
    "from nltk.corpus import wordnet as wn"
   ]
  },
  {
   "cell_type": "code",
   "execution_count": 2,
   "metadata": {},
   "outputs": [
    {
     "output_type": "execute_result",
     "data": {
      "text/plain": "[Synset('pelecaniform_seabird.n.01'),\n Synset('seabird.n.01'),\n Synset('aquatic_bird.n.01'),\n Synset('bird.n.01'),\n Synset('vertebrate.n.01'),\n Synset('chordate.n.01'),\n Synset('animal.n.01'),\n Synset('organism.n.01'),\n Synset('living_thing.n.01'),\n Synset('whole.n.02'),\n Synset('object.n.01'),\n Synset('physical_entity.n.01'),\n Synset('entity.n.01')]"
     },
     "metadata": {},
     "execution_count": 2
    }
   ],
   "source": [
    "# example of one synset\n",
    "pelican = wn.synset('pelican.n.01')\n",
    "hyper = lambda s: s.hypernyms()\n",
    "list(pelican.closure(hyper))"
   ]
  },
  {
   "cell_type": "code",
   "execution_count": 3,
   "metadata": {
    "tags": []
   },
   "outputs": [
    {
     "output_type": "stream",
     "name": "stdout",
     "text": "noun: well\nnoun: well\nnoun: well, wellspring, fountainhead\nnoun: well\nnoun: well\nverb: well, swell\nadj: well\nadj (s): good, well\nadj (s): well\nadv: well, good\nadv: well\nadv: well, easily\nadv: well\nadv: well\nadv: well\nadv: well, considerably, substantially\nadv: well, intimately\nadv: well\nadv: well\nadv: well, advantageously\nadv: well, comfortably\nadv: well\n"
    }
   ],
   "source": [
    "# example of categorization with one synset\n",
    "poses = {'n':'noun', 'v':'verb', 's':'adj (s)', 'a': 'adj', 'r':'adv'}\n",
    "for synset in wn.synsets('well'):\n",
    "    print('{}: {}'.format(poses[synset.pos()],\n",
    "    ', '.join([l.name() for l in synset.lemmas()])))"
   ]
  },
  {
   "cell_type": "code",
   "execution_count": 4,
   "metadata": {
    "tags": []
   },
   "outputs": [
    {
     "output_type": "stream",
     "name": "stdout",
     "text": "0.5714285714285714\npath similarity 0.1\n"
    }
   ],
   "source": [
    "w1 = wn.synset('king.n.01')\n",
    "w2 = wn.synset('queen.n.01')\n",
    "print(w1.wup_similarity(w2))\n",
    "print('path similarity', w1.path_similarity(w2))"
   ]
  }
 ]
}